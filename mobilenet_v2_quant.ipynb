{
  "cells": [
    {
      "cell_type": "markdown",
      "metadata": {
        "id": "view-in-github",
        "colab_type": "text"
      },
      "source": [
        "<a href=\"https://colab.research.google.com/github/Abhyu-S/24065008-CSOC-IG/blob/main/mobilenet_v2_quant.ipynb\" target=\"_parent\"><img src=\"https://colab.research.google.com/assets/colab-badge.svg\" alt=\"Open In Colab\"/></a>"
      ]
    },
    {
      "cell_type": "code",
      "execution_count": 1,
      "id": "e90fc409",
      "metadata": {
        "colab": {
          "base_uri": "https://localhost:8080/",
          "height": 0
        },
        "id": "e90fc409",
        "outputId": "789c2b5b-8984-4556-e79e-2c6968cbd8e2"
      },
      "outputs": [
        {
          "output_type": "stream",
          "name": "stdout",
          "text": [
            "Using device: cuda\n"
          ]
        }
      ],
      "source": [
        "import torch\n",
        "import torch.nn as nn\n",
        "import torch.optim as optim\n",
        "import torchvision\n",
        "import torchvision.transforms as transforms\n",
        "import torch.quantization\n",
        "import time\n",
        "import os\n",
        "import numpy as np\n",
        "import matplotlib.pyplot as plt\n",
        "\n",
        "# ==================================================================\n",
        "# 1. SETUP\n",
        "# ==================================================================\n",
        "# For reproducibility\n",
        "torch.manual_seed(1910)\n",
        "# Set number of epochs for a more meaningful training session\n",
        "NUM_EPOCHS = 10\n",
        "device = torch.device(\"cuda\" if torch.cuda.is_available() else \"cpu\")\n",
        "print(f\"Using device: {device}\")"
      ]
    },
    {
      "cell_type": "code",
      "execution_count": 2,
      "id": "caf7116e",
      "metadata": {
        "colab": {
          "base_uri": "https://localhost:8080/",
          "height": 0
        },
        "id": "caf7116e",
        "outputId": "fe4ad8db-7e64-4547-b6bd-60b2032e1e57"
      },
      "outputs": [
        {
          "output_type": "stream",
          "name": "stderr",
          "text": [
            "100%|██████████| 170M/170M [00:03<00:00, 47.9MB/s]\n"
          ]
        },
        {
          "output_type": "stream",
          "name": "stdout",
          "text": [
            "CIFAR-10 dataset loaded.\n"
          ]
        }
      ],
      "source": [
        "# ==================================================================\n",
        "# 2. DATA LOADING\n",
        "# ==================================================================\n",
        "transform = transforms.Compose([\n",
        "    transforms.Resize((224, 224)),\n",
        "    transforms.ToTensor(),\n",
        "    transforms.Normalize(mean=[0.485, 0.456, 0.406], std=[0.229, 0.224, 0.225]),\n",
        "])\n",
        "trainset = torchvision.datasets.CIFAR10(root='./data', train=True, download=True, transform=transform)\n",
        "trainloader = torch.utils.data.DataLoader(trainset, batch_size=32, shuffle=True, num_workers=2)\n",
        "testset = torchvision.datasets.CIFAR10(root='./data', train=False, download=True, transform=transform)\n",
        "testloader = torch.utils.data.DataLoader(testset, batch_size=32, shuffle=False, num_workers=2)\n",
        "print(\"CIFAR-10 dataset loaded.\")\n"
      ]
    },
    {
      "cell_type": "code",
      "execution_count": 3,
      "id": "a6f4d5e6",
      "metadata": {
        "colab": {
          "base_uri": "https://localhost:8080/",
          "height": 0
        },
        "id": "a6f4d5e6",
        "outputId": "5d1e3d4c-f535-4a24-c156-3bf48a942222"
      },
      "outputs": [
        {
          "output_type": "stream",
          "name": "stderr",
          "text": [
            "Downloading: \"https://download.pytorch.org/models/mobilenet_v2-b0353104.pth\" to /root/.cache/torch/hub/checkpoints/mobilenet_v2-b0353104.pth\n",
            "100%|██████████| 13.6M/13.6M [00:00<00:00, 61.5MB/s]"
          ]
        },
        {
          "output_type": "stream",
          "name": "stdout",
          "text": [
            "Quantizable model created and skip connections fixed.\n"
          ]
        },
        {
          "output_type": "stream",
          "name": "stderr",
          "text": [
            "\n"
          ]
        }
      ],
      "source": [
        "# ==================================================================\n",
        "# 3. MODEL DEFINITION AND MODIFICATION\n",
        "# ==================================================================\n",
        "class QuantizableModel(nn.Module):\n",
        "    def __init__(self, model_fp32):\n",
        "        super().__init__()\n",
        "        self.quant = torch.quantization.QuantStub()\n",
        "        self.model_fp32 = model_fp32\n",
        "        self.dequant = torch.quantization.DeQuantStub()\n",
        "\n",
        "    def forward(self, x):\n",
        "        x = self.quant(x)\n",
        "        x = self.model_fp32(x)\n",
        "        x = self.dequant(x)\n",
        "        return x\n",
        "\n",
        "# Create the standard floating-point model\n",
        "float_model = torchvision.models.mobilenet_v2(weights='IMAGENET1K_V1')\n",
        "num_features = float_model.classifier[1].in_features\n",
        "float_model.classifier = nn.Linear(num_features, 10)\n",
        "\n",
        "# Fix for residual connections\n",
        "for module in float_model.modules():\n",
        "    if isinstance(module, torchvision.models.mobilenetv2.InvertedResidual):\n",
        "        module.skip_add = nn.quantized.FloatFunctional()\n",
        "        def new_forward(self, x):\n",
        "            if self.use_res_connect:\n",
        "                return self.skip_add.add(x, self.conv(x))\n",
        "            else:\n",
        "                return self.conv(x)\n",
        "        module.forward = new_forward.__get__(module, type(module))\n",
        "\n",
        "# Wrap the model\n",
        "quantizable_model = QuantizableModel(model_fp32=float_model)\n",
        "print(\"Quantizable model created and skip connections fixed.\")\n"
      ]
    },
    {
      "cell_type": "code",
      "execution_count": 4,
      "id": "7a26c710",
      "metadata": {
        "colab": {
          "base_uri": "https://localhost:8080/",
          "height": 0
        },
        "id": "7a26c710",
        "outputId": "7a296d33-50cf-44c0-fcd7-27368a58ae3b"
      },
      "outputs": [
        {
          "output_type": "stream",
          "name": "stderr",
          "text": [
            "/usr/local/lib/python3.11/dist-packages/torch/ao/quantization/observer.py:229: UserWarning: Please use quant_min and quant_max to specify the range for observers.                     reduce_range will be deprecated in a future release of PyTorch.\n",
            "  warnings.warn(\n"
          ]
        },
        {
          "output_type": "stream",
          "name": "stdout",
          "text": [
            "Model prepared for QAT.\n"
          ]
        }
      ],
      "source": [
        "# ==================================================================\n",
        "# 4. MODEL PREPARATION FOR QAT\n",
        "# ==================================================================\n",
        "quantizable_model.qconfig = torch.quantization.get_default_qat_qconfig('fbgemm')\n",
        "qat_model = torch.quantization.prepare_qat(quantizable_model.train())\n",
        "print(\"Model prepared for QAT.\")"
      ]
    },
    {
      "cell_type": "code",
      "execution_count": 5,
      "id": "29c32579",
      "metadata": {
        "colab": {
          "base_uri": "https://localhost:8080/",
          "height": 0
        },
        "id": "29c32579",
        "outputId": "d6333003-8f83-4293-e478-7b31fd022b46"
      },
      "outputs": [
        {
          "output_type": "stream",
          "name": "stdout",
          "text": [
            "\n",
            "Starting QAT training for 10 epochs on cuda...\n",
            "Epoch [1/10] Loss: 0.774\n",
            "Epoch [2/10] Loss: 0.356\n",
            "Epoch [3/10] Loss: 0.272\n",
            "Epoch [4/10] Loss: 0.228\n",
            "Epoch [5/10] Loss: 0.192\n",
            "Epoch [6/10] Loss: 0.164\n",
            "Epoch [7/10] Loss: 0.144\n",
            "Epoch [8/10] Loss: 0.131\n",
            "Epoch [9/10] Loss: 0.116\n",
            "Epoch [10/10] Loss: 0.099\n",
            "Training complete.\n"
          ]
        }
      ],
      "source": [
        "# ==================================================================\n",
        "# 5. TRAINING LOOP\n",
        "# ==================================================================\n",
        "qat_model.to(device)\n",
        "criterion = nn.CrossEntropyLoss()\n",
        "optimizer = optim.SGD(qat_model.parameters(), lr=0.001, momentum=0.9)\n",
        "\n",
        "print(f\"\\nStarting QAT training for {NUM_EPOCHS} epochs on {device}...\")\n",
        "for epoch in range(NUM_EPOCHS):\n",
        "    qat_model.train()\n",
        "    running_loss = 0.0\n",
        "    for i, (images, labels) in enumerate(trainloader):\n",
        "        images, labels = images.to(device), labels.to(device)\n",
        "        optimizer.zero_grad()\n",
        "        outputs = qat_model(images)\n",
        "        loss = criterion(outputs, labels)\n",
        "        loss.backward()\n",
        "        optimizer.step()\n",
        "        running_loss += loss.item()\n",
        "    print(f\"Epoch [{epoch+1}/{NUM_EPOCHS}] Loss: {running_loss/len(trainloader):.3f}\")\n",
        "\n",
        "print(\"Training complete.\")\n"
      ]
    },
    {
      "cell_type": "code",
      "execution_count": 6,
      "id": "5e3e4248",
      "metadata": {
        "colab": {
          "base_uri": "https://localhost:8080/",
          "height": 0
        },
        "id": "5e3e4248",
        "outputId": "96b396fc-0c96-4ada-b1f3-8844b7bf41b6"
      },
      "outputs": [
        {
          "output_type": "stream",
          "name": "stderr",
          "text": [
            "/usr/local/lib/python3.11/dist-packages/torch/ao/quantization/utils.py:408: UserWarning: must run observer before calling calculate_qparams. Returning default values.\n",
            "  warnings.warn(\n"
          ]
        },
        {
          "output_type": "stream",
          "name": "stdout",
          "text": [
            "\n",
            "Model successfully converted to a final integer model.\n"
          ]
        }
      ],
      "source": [
        "# ==================================================================\n",
        "# 6. FINAL CONVERSION\n",
        "# ==================================================================\n",
        "qat_model.to('cpu')\n",
        "quantized_integer_model = torch.quantization.convert(qat_model.eval())\n",
        "print(\"\\nModel successfully converted to a final integer model.\")"
      ]
    },
    {
      "cell_type": "code",
      "execution_count": 7,
      "id": "988c9354",
      "metadata": {
        "colab": {
          "base_uri": "https://localhost:8080/",
          "height": 607
        },
        "id": "988c9354",
        "outputId": "37d160f4-1907-47b2-fd6f-0267e8a7a4fe"
      },
      "outputs": [
        {
          "output_type": "display_data",
          "data": {
            "text/plain": [
              "<Figure size 1000x600 with 1 Axes>"
            ],
            "image/png": "[encoded data removed]"
          },
          "metadata": {}
        }
      ],
      "source": [
        "# ==================================================================\n",
        "# 7. PERFORMANCE EVALUATION & COMPARISON\n",
        "# ==================================================================\n",
        "\n",
        "# Helper function to get model size\n",
        "def get_model_size_mb(model):\n",
        "    torch.save(model.state_dict(), \"temp.p\")\n",
        "    size_mb = os.path.getsize(\"temp.p\")/1e6\n",
        "    os.remove(\"temp.p\")\n",
        "    return size_mb\n",
        "\n",
        "# Helper function to evaluate accuracy and latency\n",
        "def evaluate_model(model, data_loader, device):\n",
        "    model.to(device)\n",
        "    model.eval()\n",
        "    correct = 0\n",
        "    total = 0\n",
        "\n",
        "    # Timing\n",
        "    start_time = time.time()\n",
        "    if device == 'cuda':\n",
        "        torch.cuda.synchronize()\n",
        "\n",
        "    with torch.no_grad():\n",
        "        for images, labels in data_loader:\n",
        "            images, labels = images.to(device), labels.to(device)\n",
        "            outputs = model(images)\n",
        "            _, predicted = torch.max(outputs.data, 1)\n",
        "            total += labels.size(0)\n",
        "            correct += (predicted == labels).sum().item()\n",
        "\n",
        "    if device == 'cuda':\n",
        "        torch.cuda.synchronize()\n",
        "    end_time = time.time()\n",
        "\n",
        "    total_time = end_time - start_time\n",
        "    avg_latency_ms = (total_time / len(data_loader)) * 1000\n",
        "    accuracy = 100 * correct / total\n",
        "    return accuracy, avg_latency_ms\n",
        "\n",
        "# --- Run Evaluations ---\n",
        "# Note: Quantized integer models run on CPU\n",
        "quant_accuracy, quant_latency = evaluate_model(quantized_integer_model, testloader, device='cpu')\n",
        "quant_size = get_model_size_mb(quantized_integer_model)\n",
        "\n",
        "# Float model can be evaluated on CPU or GPU\n",
        "float_accuracy, float_latency = evaluate_model(float_model, testloader, device='cpu')\n",
        "float_size = get_model_size_mb(float_model)\n",
        "\n",
        "\n",
        "# ==================================================================\n",
        "# 8. VISUALIZATION\n",
        "# ==================================================================\n",
        "labels = ['Accuracy (%)', 'Latency (ms/batch)', 'Size (MB)']\n",
        "quant_metrics = [quant_accuracy, quant_latency, quant_size]\n",
        "float_metrics = [float_accuracy, float_latency, float_size]\n",
        "\n",
        "x = np.arange(len(labels))\n",
        "width = 0.35\n",
        "\n",
        "fig, ax = plt.subplots(figsize=(10, 6))\n",
        "rects1 = ax.bar(x - width/2, float_metrics, width, label='Float Model', color='royalblue')\n",
        "rects2 = ax.bar(x + width/2, quant_metrics, width, label='Quantized Model', color='seagreen')\n",
        "\n",
        "# Add text for labels, title and axes ticks\n",
        "ax.set_ylabel('Scores')\n",
        "ax.set_title('Float vs. Quantized Model Performance')\n",
        "ax.set_xticks(x)\n",
        "ax.set_xticklabels(labels)\n",
        "ax.legend()\n",
        "\n",
        "ax.bar_label(rects1, padding=3, fmt='%.2f')\n",
        "ax.bar_label(rects2, padding=3, fmt='%.2f')\n",
        "\n",
        "fig.tight_layout()\n",
        "plt.grid(axis='y', linestyle='--', alpha=0.7)\n",
        "plt.show()"
      ]
    }
  ],
  "metadata": {
    "kernelspec": {
      "display_name": "Python 3",
      "name": "python3"
    },
    "language_info": {
      "name": "python",
      "version": "3.12.7"
    },
    "colab": {
      "provenance": [],
      "gpuType": "T4",
      "include_colab_link": true
    },
    "accelerator": "GPU"
  },
  "nbformat": 4,
  "nbformat_minor": 5
}